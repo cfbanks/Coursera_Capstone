{
 "cells": [
  {
   "cell_type": "markdown",
   "metadata": {},
   "source": [
    "# Introduction / Business Problem\n"
   ]
  },
  {
   "cell_type": "markdown",
   "metadata": {},
   "source": [
    "If I were to develop an app that recommended local business to users, and I wanted to use the foursquare location data as my data source, what cities in the United States would be the best cities to launch this app in first. How would be know what cities would be best to start in? The answer to this question can be found by analyzing the foursquare location data. We would want to start in cities where there are high numbers of venues that have been designated in the foursquare database. In order for an app to give useful recommendations, it needs to have a large dataset to draw from. There would be no point in having an app if it has only a few recommendations to give. We would also want to start in cities with large populations so we can get a large user base."
   ]
  },
  {
   "cell_type": "markdown",
   "metadata": {},
   "source": [
    "# Data "
   ]
  },
  {
   "cell_type": "markdown",
   "metadata": {},
   "source": [
    "The data used for this project came from two sources. In order to choose the cities with large populations in the United States, the pandas package was used to read in a dataframe of the highest population cities with their corresponding locations from the website https://en.wikipedia.org/wiki/List_of_United_States_cities_by_population. The imported dataframe was then cleaned and sorted to only include the top 50 cities by population using the pandas library in python. Using the longitudes and latitudes of these cities, requests were sent to the foursquare API to search for the number of venues in their database within a radius of 100 km of the city location. The retreived information was put into the pandas database and was ranked in descending order based on the number of venues the were retrieved. This allows us to see the top 50 cities where we should start the recommendation app availability if we are going to be using the foursquare location data for our app. "
   ]
  }
 ],
 "metadata": {
  "kernelspec": {
   "display_name": "Python 3",
   "language": "python",
   "name": "python3"
  },
  "language_info": {
   "codemirror_mode": {
    "name": "ipython",
    "version": 3
   },
   "file_extension": ".py",
   "mimetype": "text/x-python",
   "name": "python",
   "nbconvert_exporter": "python",
   "pygments_lexer": "ipython3",
   "version": "3.7.4"
  }
 },
 "nbformat": 4,
 "nbformat_minor": 2
}
